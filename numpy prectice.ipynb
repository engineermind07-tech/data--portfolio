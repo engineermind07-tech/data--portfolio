{
 "cells": [
  {
   "cell_type": "code",
   "execution_count": 4,
   "id": "d5bbb885-6c7c-4305-aa88-cf4f30eb2257",
   "metadata": {},
   "outputs": [
    {
     "name": "stdout",
     "output_type": "stream",
     "text": [
      "[30 40 20 40 30]\n",
      "(5,)\n"
     ]
    }
   ],
   "source": [
    "#inspection an array \n",
    "import numpy as np\n",
    "a = [30, 40, 20, 40, 30]\n",
    "arr = np.array(a)\n",
    "print(arr)\n",
    "print(arr.shape)\n"
   ]
  },
  {
   "cell_type": "code",
   "execution_count": 6,
   "id": "8be16d85-3535-4fa5-86a1-7ead314a2486",
   "metadata": {},
   "outputs": [
    {
     "name": "stdout",
     "output_type": "stream",
     "text": [
      "[[30 40 40]\n",
      " [40 30 10]]\n",
      "(2, 3)\n",
      "2\n",
      "6\n",
      "<class 'numpy.ndarray'>\n",
      "int64\n",
      "[[30. 40. 40.]\n",
      " [40. 30. 10.]]\n",
      "[['30' '40' '40']\n",
      " ['40' '30' '10']]\n",
      "[[30 40 40]\n",
      " [40 30 10]]\n"
     ]
    }
   ],
   "source": [
    "#all function \n",
    "a = [[30, 40, 40],[40, 30, 10]]\n",
    "arr = np.array(a)\n",
    "print(arr)\n",
    "print(arr.shape)\n",
    "print(len(arr))\n",
    "print(np.size(arr))\n",
    "print(type(arr))\n",
    "print(arr.dtype)\n",
    "print(arr.astype(float))\n",
    "print(arr.astype(str))\n",
    "print(arr.astype(int))\n"
   ]
  },
  {
   "cell_type": "code",
   "execution_count": 8,
   "id": "eb149da0-62a8-49dc-a8e8-8d7796ec2960",
   "metadata": {},
   "outputs": [
    {
     "name": "stdout",
     "output_type": "stream",
     "text": [
      "[ 60  60  80 100  60]\n",
      "[ 60  60  80 100  60]\n"
     ]
    }
   ],
   "source": [
    "#addition\n",
    "arr1 = np.array([30, 40, 50, 60, 10])\n",
    "arr2 =  np.array([30, 20, 30, 40, 50])\n",
    "print(arr1 + arr2) #operation\n",
    "print(np.add(arr1,arr2)) #function\n",
    "\n"
   ]
  },
  {
   "cell_type": "code",
   "execution_count": 11,
   "id": "34e7458e-087c-4d2a-80bf-2ee623936016",
   "metadata": {},
   "outputs": [
    {
     "name": "stdout",
     "output_type": "stream",
     "text": [
      "[[  0  20]\n",
      " [ 10 -10]]\n",
      "[[  0  20]\n",
      " [ 10 -10]]\n"
     ]
    }
   ],
   "source": [
    "import numpy as np\n",
    "#subtraction \n",
    "arr1 = np.array([[30, 40],[20, 10]])\n",
    "arr2 = np.array([[30, 20],[10, 20]])\n",
    "print(np.subtract(arr1,arr2)) #function \n",
    "print(arr1 - arr2) #operation"
   ]
  },
  {
   "cell_type": "code",
   "execution_count": 16,
   "id": "5abe204f-de37-471d-83ac-ab5fd00fbec5",
   "metadata": {},
   "outputs": [
    {
     "name": "stdout",
     "output_type": "stream",
     "text": [
      "[[900 800]\n",
      " [200 200]]\n",
      "\n",
      "***according numpy function**** [[900 800]\n",
      " [200 200]]\n"
     ]
    }
   ],
   "source": [
    "import numpy as np \n",
    "#multiplication\n",
    "arr1 = np.array([[30, 40],[20, 10]])\n",
    "arr2 = np.array([[30, 20],[10, 20]])\n",
    "print(arr1*arr2)\n",
    "print()\n",
    "print(\"***according numpy function****\",np.multiply(arr1,arr2)) "
   ]
  },
  {
   "cell_type": "code",
   "execution_count": 17,
   "id": "c5b0020f-6027-45c6-aa5e-885f4d8b51fe",
   "metadata": {},
   "outputs": [
    {
     "name": "stdout",
     "output_type": "stream",
     "text": [
      "[[ 3. 10.]\n",
      " [ 5. 10.]]\n",
      "\n",
      "***according numpy fuction*** [[ 3. 10.]\n",
      " [ 5. 10.]]\n"
     ]
    }
   ],
   "source": [
    "import numpy as np\n",
    "#division \n",
    "arr1 = np.array([[30, 20], [40, 30]])\n",
    "arr2 = np.array([[10, 2], [8, 3]])\n",
    "print(arr1/arr2)\n",
    "print()\n",
    "print(\"***according numpy fuction***\",np.divide(arr1,arr2))\n"
   ]
  },
  {
   "cell_type": "code",
   "execution_count": 18,
   "id": "4243cfa9-63aa-4d53-9438-f9e6878834c8",
   "metadata": {},
   "outputs": [
    {
     "name": "stdout",
     "output_type": "stream",
     "text": [
      "[ 9 16 25 36 49]\n",
      "\n",
      "***according power*** [ 9 16 25 36 49]\n"
     ]
    }
   ],
   "source": [
    "import numpy as np \n",
    "#power\n",
    "arr1 = np.array([3, 4, 5, 6, 7])\n",
    "arr2 = np.array([2])\n",
    "print(arr1**arr2)\n",
    "print()\n",
    "print(\"***according power***\", np.power(arr1,arr2))"
   ]
  },
  {
   "cell_type": "code",
   "execution_count": 20,
   "id": "6e4809c1-5e7f-4fa7-ba4e-7495d40c0e36",
   "metadata": {},
   "outputs": [
    {
     "name": "stdout",
     "output_type": "stream",
     "text": [
      "[5.19615242 8.         2.82842712 1.        ]\n"
     ]
    }
   ],
   "source": [
    "import numpy as np\n",
    "#square root \n",
    "arr1 = np.array([27, 64, 8, 1])\n",
    "print(np.sqrt(arr1))"
   ]
  },
  {
   "cell_type": "code",
   "execution_count": 22,
   "id": "e2c8e1f0-486a-4836-97f8-8d2c738a33cf",
   "metadata": {},
   "outputs": [
    {
     "name": "stdout",
     "output_type": "stream",
     "text": [
      "[3. 4. 2. 1.]\n"
     ]
    }
   ],
   "source": [
    "import numpy as np\n",
    "#square root \n",
    "arr1 = np.array([9,16,4,1])\n",
    "print(np.sqrt(arr1))"
   ]
  },
  {
   "cell_type": "code",
   "execution_count": 30,
   "id": "636af3e8-b79a-43b4-9632-09538a53695d",
   "metadata": {},
   "outputs": [
    {
     "name": "stdout",
     "output_type": "stream",
     "text": [
      "\n",
      "[[30 40 50]\n",
      " [ 5  6  7]]\n",
      "\n",
      "[[30 40 50  5  6  7]]\n"
     ]
    }
   ],
   "source": [
    "#combinating and spliting array.\n",
    "# humare pass jab do array hote hai hum kese join kare sakte hai.\n",
    "#ya fir humare pass single array unsko kese split kar sakte hai vo kese kare/\n",
    "import numpy as np\n",
    "#concatenate\n",
    "arr1 = np.array([[30, 40, 50]])\n",
    "arr2 = np.array([[5, 6, 7]])\n",
    "print(np.concatenate([arr1,arr2]))\n",
    "print()\n",
    "#axis related x,y\n",
    "print(np.concatenate([arr1,arr2],axis=0))  #horizontal its mean x axis\n",
    "print()\n",
    "print(np.concatenate([arr1,arr2],axis=1)) #vertical it's mean y axis (it is work \n",
    "\n",
    "\n"
   ]
  },
  {
   "cell_type": "code",
   "execution_count": 37,
   "id": "03e50fff-76be-447a-b41b-0f86df89a829",
   "metadata": {},
   "outputs": [
    {
     "name": "stdout",
     "output_type": "stream",
     "text": [
      "[array([20, 40]), array([50, 60]), array([70])]\n"
     ]
    }
   ],
   "source": [
    "#split function\n",
    "import numpy as np\n",
    "a = np.array([20, 40, 50, 60,70])\n",
    "print(np.array_split(a, 3)) #(a,3) mean a variable ko 3 portion mai split kar dega.\n"
   ]
  },
  {
   "cell_type": "code",
   "execution_count": 40,
   "id": "54871c79-969e-4439-8312-e16ec86d6cc6",
   "metadata": {},
   "outputs": [
    {
     "name": "stdout",
     "output_type": "stream",
     "text": [
      "[array([20, 30]), array([40, 50]), array([20])]\n",
      "\n",
      "[40 50]\n"
     ]
    }
   ],
   "source": [
    "import numpy as np\n",
    "a = np.array([20,30,40,50,20])\n",
    "b = np.array_split(a,3)\n",
    "print(b)\n",
    "print()\n",
    "print(b[1])"
   ]
  },
  {
   "cell_type": "code",
   "execution_count": 42,
   "id": "841afeaf-8ea8-42e3-892b-7fb4b60716d4",
   "metadata": {},
   "outputs": [
    {
     "name": "stdout",
     "output_type": "stream",
     "text": [
      "[array([20, 40]), array([30, 40]), array([10]), array([20])]\n",
      "\n",
      "[10]\n"
     ]
    }
   ],
   "source": [
    "a = np.array([20,40,30,40,10,20])\n",
    "b = np.array_split(a,4)\n",
    "print(b)\n",
    "print()\n",
    "print(b[2])"
   ]
  },
  {
   "cell_type": "code",
   "execution_count": 44,
   "id": "d966e78d-3b80-4f1e-9588-ddddb91d37d8",
   "metadata": {},
   "outputs": [
    {
     "name": "stdout",
     "output_type": "stream",
     "text": [
      "[array([20]), array([40]), array([50]), array([60]), array([70]), array([10])]\n",
      "\n",
      "[60]\n"
     ]
    }
   ],
   "source": [
    "a = np.array([20,40,50,60,70,10])\n",
    "b = np.array_split(a,6)\n",
    "print(b)\n",
    "print()\n",
    "print(b[3])"
   ]
  },
  {
   "cell_type": "code",
   "execution_count": 47,
   "id": "bc1f6ecb-d96d-43b4-8ae3-a90e5552bcd9",
   "metadata": {},
   "outputs": [
    {
     "name": "stdout",
     "output_type": "stream",
     "text": [
      "[array([[20, 30, 40]]), array([[40, 10, 20]]), array([], shape=(0, 3), dtype=int64)]\n"
     ]
    }
   ],
   "source": [
    "# 2d array\n",
    "a = np.array([[20,30,40],[40,10,20]])\n",
    "b = np.array_split(a,3)\n",
    "print(b)\n"
   ]
  },
  {
   "cell_type": "code",
   "execution_count": 48,
   "id": "a2d425c6-74c8-4d5e-bc2c-739e4f967ddf",
   "metadata": {},
   "outputs": [
    {
     "name": "stdout",
     "output_type": "stream",
     "text": [
      "[20 30 40 50 60 90]\n"
     ]
    }
   ],
   "source": [
    "# adding and removing element in the array\n",
    "#jese list le andar koi bhi value ko add karna hota hai.\n",
    "#append\n",
    "import numpy as np\n",
    "a = np.array([20,30,40,50,60])\n",
    "print(np.append(a, 90)) #(a,90) append ka use karke hum variable a me 90 ko add karwa denge \n",
    "\n"
   ]
  },
  {
   "cell_type": "code",
   "execution_count": 49,
   "id": "a11ea036-e336-4e37-b4ce-c89d24006aef",
   "metadata": {},
   "outputs": [
    {
     "name": "stdout",
     "output_type": "stream",
     "text": [
      "[ 20  30  60  80  90 100]\n"
     ]
    }
   ],
   "source": [
    "#using append method to add 90 and 100 in 2D array.\n",
    "a = np.array([[20,30],[60,80]])\n",
    "print(np.append(a,[90,100])) \n"
   ]
  },
  {
   "cell_type": "code",
   "execution_count": 50,
   "id": "a9857848-eb28-4cf0-953d-259db66bdbe2",
   "metadata": {},
   "outputs": [
    {
     "name": "stdout",
     "output_type": "stream",
     "text": [
      "[50 80 30 60 60 80]\n"
     ]
    }
   ],
   "source": [
    "#insert ---- ye tab use hota hai jaha par ek particular index me add karwa hai.\n",
    "a = np.array([[50,60],[60,80]])\n",
    "print(np.insert(a,1,[80,30]))"
   ]
  },
  {
   "cell_type": "code",
   "execution_count": 51,
   "id": "20baccfd-bde2-40f6-b683-915505bbfa01",
   "metadata": {},
   "outputs": [
    {
     "name": "stdout",
     "output_type": "stream",
     "text": [
      "[20 70 30 10 50]\n"
     ]
    }
   ],
   "source": [
    "#insert \n",
    "a = np.array([[20,30],[10,50]])\n",
    "print(np.insert(a,1,70))"
   ]
  },
  {
   "cell_type": "code",
   "execution_count": 55,
   "id": "59e90190-8c91-49fc-b1a7-55cd69e6c5fc",
   "metadata": {},
   "outputs": [
    {
     "name": "stdout",
     "output_type": "stream",
     "text": [
      "[20 50 30 60 40 90]\n",
      "\n",
      "[[20 50 60]\n",
      " [40 30 90]]\n",
      "\n",
      "[[20 60]\n",
      " [50 30]\n",
      " [40 90]]\n"
     ]
    }
   ],
   "source": [
    "#insert\n",
    "a = np.array([[20,60],[40,90]])\n",
    "print(np.insert(a,1,[50,30]))\n",
    "print()\n",
    "print(np.insert(a,1,[50,30], axis =1))\n",
    "print()\n",
    "print(np.insert(a,1,[50,30],axis = 0))\n"
   ]
  },
  {
   "cell_type": "code",
   "execution_count": 57,
   "id": "d7596148-9e59-4a3b-8f83-a0d3355b77d3",
   "metadata": {},
   "outputs": [
    {
     "name": "stdout",
     "output_type": "stream",
     "text": [
      "[ 4  7  8  9  9 12]\n"
     ]
    }
   ],
   "source": [
    "# numpy-----------sort-----------filter---------------and-------------------search\n",
    "# short --- accending order mai jamana\n",
    "ar = np.array([7,8,9,4,12,9])\n",
    "print(np.sort(ar))"
   ]
  },
  {
   "cell_type": "code",
   "execution_count": 59,
   "id": "8c66106c-0a93-4aac-8aa0-b327f67bba8f",
   "metadata": {},
   "outputs": [
    {
     "name": "stdout",
     "output_type": "stream",
     "text": [
      "[[ 4  7  8  9 12]\n",
      " [ 1  2  5  6  8]]\n"
     ]
    }
   ],
   "source": [
    "# sort 2d \n",
    "ar1 = np.array([[7,8,4,12,9],[2,8,6,5,1]])\n",
    "print(np.sort(ar1))"
   ]
  },
  {
   "cell_type": "code",
   "execution_count": 60,
   "id": "7e8ae82d-fe58-4454-b4f6-4059b6c837d4",
   "metadata": {},
   "outputs": [
    {
     "name": "stdout",
     "output_type": "stream",
     "text": [
      "[20 40]\n"
     ]
    }
   ],
   "source": [
    "#filter \n",
    "import numpy as np\n",
    "ar = np.array([20,30,40,50])\n",
    "fr = [True,False,True,False]\n",
    "new = ar[fr]\n",
    "print(new)\n",
    "\n"
   ]
  },
  {
   "cell_type": "code",
   "execution_count": 62,
   "id": "573712e3-094d-45c1-832b-e044827aee69",
   "metadata": {},
   "outputs": [
    {
     "name": "stdout",
     "output_type": "stream",
     "text": [
      "[20]\n"
     ]
    }
   ],
   "source": [
    "#filter\n",
    "ar = np.array([20,30,40,50])\n",
    "fr = [True,False,False,False]\n",
    "new = ar[fr]\n",
    "print(new)\n"
   ]
  },
  {
   "cell_type": "code",
   "execution_count": 64,
   "id": "1791cb1f-ead6-4937-bf40-39a3d651810e",
   "metadata": {},
   "outputs": [
    {
     "name": "stdout",
     "output_type": "stream",
     "text": [
      "[2 4]\n",
      "\n",
      "[3 5]\n"
     ]
    }
   ],
   "source": [
    "#filter\n",
    "ar =  np.array([2,3,4,5])\n",
    "fa = ar % 2 == 0\n",
    "new = ar[fa]\n",
    "fr = ar % 2 == 1\n",
    "new1 = ar[fr]\n",
    "print(new)\n",
    "print()\n",
    "print(new1)"
   ]
  }
 ],
 "metadata": {
  "kernelspec": {
   "display_name": "Python 3 (ipykernel)",
   "language": "python",
   "name": "python3"
  },
  "language_info": {
   "codemirror_mode": {
    "name": "ipython",
    "version": 3
   },
   "file_extension": ".py",
   "mimetype": "text/x-python",
   "name": "python",
   "nbconvert_exporter": "python",
   "pygments_lexer": "ipython3",
   "version": "3.13.7"
  }
 },
 "nbformat": 4,
 "nbformat_minor": 5
}
